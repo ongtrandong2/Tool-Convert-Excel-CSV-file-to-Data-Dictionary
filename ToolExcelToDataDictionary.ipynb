{
  "nbformat": 4,
  "nbformat_minor": 0,
  "metadata": {
    "colab": {
      "provenance": []
    },
    "kernelspec": {
      "name": "python3",
      "display_name": "Python 3"
    },
    "language_info": {
      "name": "python"
    }
  },
  "cells": [
    {
      "cell_type": "code",
      "execution_count": 4,
      "metadata": {
        "id": "nA12Ksc1EfjX"
      },
      "outputs": [],
      "source": [
        "import pandas as pd\n",
        "\n",
        "# Nếu Em Ngọc Muốn Đọc CSV\n",
        "df = pd.read_csv('/content/drive/MyDrive/test/Netsale_Line.csv')\n",
        "# Nếu Em Ngọc Muốn Đọc Excel thì bỏ dấu # ở dòng dưới + với thêm dấu # ở dòng trên\n",
        "#df = pd.read_excel('ten_file.xlsx')\n",
        "# Tạo data dictionary\n",
        "data_dictionary = pd.DataFrame({\n",
        "    'Tên Trường': df.columns,\n",
        "    'Kiểu Dữ Liệu': df.dtypes,\n",
        "    'Mô Tả': [''] * len(df.columns)\n",
        "})\n",
        "\n",
        "# Lưu data dictionary ra file CSV hoặc Excel xong nó sẽ xuất\n",
        "# xuống dưới xong e ngọc tải về là được\n",
        "data_dictionary.to_csv('data_dictionary.csv', index=False)\n",
        "# hoặc\n",
        "data_dictionary.to_excel('data_dictionary.xlsx', index=False)\n"
      ]
    }
  ]
}